{
 "cells": [
  {
   "cell_type": "code",
   "execution_count": 1,
   "metadata": {
    "collapsed": false
   },
   "outputs": [
    {
     "name": "stdout",
     "output_type": "stream",
     "text": [
      "Populating the interactive namespace from numpy and matplotlib\n"
     ]
    }
   ],
   "source": [
    "%pylab inline\n",
    "import pandas as pd\n",
    "import numpy as np\n",
    "from scipy import stats"
   ]
  },
  {
   "cell_type": "markdown",
   "metadata": {},
   "source": [
    "**The next cell is just sorting the data out, you can ignore**"
   ]
  },
  {
   "cell_type": "code",
   "execution_count": 46,
   "metadata": {
    "collapsed": false
   },
   "outputs": [
    {
     "name": "stdout",
     "output_type": "stream",
     "text": [
      "           date  ret  stake  imp_prob  dec_odds  place  runners  \\\n",
      "4343   20180512    8      1  0.111111       9.0     15       27   \n",
      "1307   20180512   25      1  0.038462      26.0      7       27   \n",
      "15861  20180512    8      1  0.111111       9.0     10       13   \n",
      "12744  20180512    9      1  0.100000      10.0      4       27   \n",
      "2094   20180512   12      1  0.076923      13.0      7       16   \n",
      "\n",
      "                  nap                            tipster race_track  \\\n",
      "4343    Silent Attack          Garry Owen (Daily Record)      Ascot   \n",
      "1307        Gilgamesh     Alex Hammond (Sky Sports News)      Ascot   \n",
      "15861      Be Perfect            The North (Racing Post)     Thirsk   \n",
      "12744         Sabador      Robin Goodfellow (Daily Mail)      Ascot   \n",
      "2094   John Constable  Chris Goulding (Scottish Express)    Haydock   \n",
      "\n",
      "                               owner     trainer        jockey race_type  \\\n",
      "4343                       Godolphin  S De Sousa  S bin Suroor      Flat   \n",
      "1307                 Niarchos Family  David Egan       G Scott      Flat   \n",
      "15861  The Beer Stalkers & Ruth Carr  J Sullivan    Mrs R Carr      Flat   \n",
      "12744                        P K Siu     W Buick      E Walker      Flat   \n",
      "2094          Walters Plant Hire Ltd     J Bowen    E Williams   Hurdles   \n",
      "\n",
      "       betsize       pnl  imp_prob_quint  \n",
      "4343         1 -0.125000               1  \n",
      "1307         1 -0.040000               1  \n",
      "15861        1 -0.125000               1  \n",
      "12744        1 -0.111111               1  \n",
      "2094         1 -0.083333               1  \n"
     ]
    }
   ],
   "source": [
    "# get data\n",
    "data_path = \"C:/Users/Robert Cartwright/Dropbox/MathsyBoyz/ugly_betting/historic_data/chris_scrape.csv\"\n",
    "df = pd.read_csv(data_path)\n",
    "df.dropna(inplace=True)\n",
    "\n",
    "# build tidy dataframe\n",
    "# integer date\n",
    "date_df = df[['Date']].copy()\n",
    "date_df['Date'] = pd.to_datetime(date_df['Date'], format=\"%d/%m/%Y\").dt.strftime(\"%Y%m%d\")\n",
    "date_df.columns = ['date']\n",
    "\n",
    "# odds\n",
    "odds_df = df[['SP']].copy()\n",
    "odds_df['SP'] = odds_df['SP'].str.replace('Evens', '1/1')\n",
    "odds_df['SP'] = odds_df['SP'].str.replace('Evs', '1/1')\n",
    "odds_df['SP'] = odds_df['SP'].str.replace('\"', '')\n",
    "odds_df = odds_df['SP'].str.split(pat='/', expand=True)\n",
    "odds_df.columns = ['ret', 'stake']\n",
    "odds_df = odds_df.astype(int)\n",
    "odds_df['imp_prob'] = odds_df['stake'] / (odds_df['ret'] + odds_df['stake'])\n",
    "odds_df['dec_odds'] = 1.0 / odds_df['imp_prob']\n",
    "\n",
    "# results\n",
    "res_df = df[['Resuls']].copy()\n",
    "res_df = res_df['Resuls'].str.split(pat='/', expand=True)\n",
    "res_df.columns = ['place', 'runners']\n",
    "res_df['place'] = res_df['place'].str.replace('F', '0')\n",
    "res_df['place'] = res_df['place'].str.replace('P', '0')\n",
    "res_df['place'] = res_df['place'].str.replace('U', '0')\n",
    "res_df['place'] = res_df['place'].str.replace('RR', '0')\n",
    "res_df['place'] = res_df['place'].str.replace('B', '0')\n",
    "res_df['place'] = res_df['place'].str.replace('R', '0')\n",
    "res_df['place'] = res_df['place'].str.replace('O', '0')\n",
    "res_df['place'] = res_df['place'].str.replace('S', '0')\n",
    "res_df['place'] = res_df['place'].str.replace('D', '')\n",
    "res_df = res_df.astype(int)\n",
    "\n",
    "# rebuild\n",
    "data_df = df[['Nap', 'Tipster', 'Race Track', 'Owner', 'Trainer', 'Jockey', 'Race Type']].copy()\n",
    "data_df.columns = ['nap', 'tipster', 'race_track', 'owner', 'trainer', 'jockey', 'race_type']\n",
    "analysis_df = pd.concat([date_df, odds_df, res_df, data_df], axis=1)\n",
    "\n",
    "# add betsize and pnl column (assuming we want to win £1 from a bet)\n",
    "analysis_df['betsize'] = 1\n",
    "analysis_df['pnl'] = np.where(\n",
    "    analysis_df['place'] == 1,\n",
    "    1,\n",
    "    -(1.0/((analysis_df['dec_odds'] - 1.0)))\n",
    ")\n",
    "analysis_df['imp_prob_quint'] = pd.qcut(analysis_df['imp_prob'], 5, labels=False) + 1\n",
    "analysis_df.sort_values('date', ascending=True, inplace=True)\n",
    "print(analysis_df.tail(5))"
   ]
  },
  {
   "cell_type": "markdown",
   "metadata": {},
   "source": [
    "With implied probability I have used quintiles as they're not evenly distributed (i.e given them a ranking between 1 & 5)"
   ]
  },
  {
   "cell_type": "markdown",
   "metadata": {},
   "source": [
    "**The next section gives tipster performance using all tips**"
   ]
  },
  {
   "cell_type": "code",
   "execution_count": 47,
   "metadata": {
    "collapsed": false
   },
   "outputs": [
    {
     "name": "stdout",
     "output_type": "stream",
     "text": [
      "                                          total_pnl\n",
      "Robin Goodfellow (Daily Mail)             17.186586\n",
      "Fortunatus (Sheffield Star)               16.322908\n",
      "Charlie Croasdale (Chester Leader)        12.653446\n",
      "The Duke (Yorkshire Post)                 11.751044\n",
      "Jim Delahunt (Scottish Sun)                5.932026\n",
      "RP Ratings (Racing Post)                   4.992978\n",
      "Newmarket (Racing Post)                    4.156818\n",
      "PicksfromthePaddock (Glasgow Herald)       3.529227\n",
      "- (The Guardian)                           2.925097\n",
      "Phil Rostron (Carlisle News & Star)        2.117612\n",
      "Alex Hammond (Sky Sports News)             0.487986\n",
      "Rory Delargy (The Irish Field)            -0.544063\n",
      "Templegate (The Sun)                      -0.614766\n",
      "Ben Linfoot (sportinglife.com)            -0.879863\n",
      "Spotlight (Racing Post)                   -1.375891\n",
      "Rob Wright (The Times)                    -3.272565\n",
      "The North (Racing Post)                   -4.117963\n",
      "Gary Nutting (Sunday Mirror)              -4.726612\n",
      "Paul Kealy (Weekender)                    -4.805163\n",
      "The Score (Racing UK)                     -5.204379\n",
      "Johnny Ward (Irish Independent)           -6.251404\n",
      "Marlborough (Daily Telegraph)             -7.328355\n",
      "Rockavon (Sunday Mail)                    -8.470947\n",
      "Postdata (Racing Post)                    -8.744265\n",
      "Lawrence Taylor (attheraces.com)          -8.834008\n",
      "Ian Gaughran (Irish Daily Star)           -9.096773\n",
      "- (The Irish Sun)                         -9.245570\n",
      "Wise Owl (Belfast Newsletter)             -9.883150\n",
      "Farringdon (Morning Star)                -11.147039\n",
      "Melissa Jones (Gloucestershire Echo)     -12.255201\n",
      "Whistler (Sunday Telegraph)              -13.094651\n",
      "Karl Hedley (Irish Post)                 -13.807342\n",
      "Moorestyle (Daily Star Sunday)           -14.868573\n",
      "Lambourn (Racing Post)                   -15.946421\n",
      "- (Racing and Football Outlook)          -16.226883\n",
      "Keith McHugh (Oldham Evening Chronicle)  -18.364834\n",
      "Mark Edwards (Oxford Mail)               -18.934840\n",
      "Chris Wright (Liverpool Echo)            -18.989989\n",
      "Sirius (The Sun On Sunday)               -19.953182\n",
      "Garry Owen (Daily Record)                -20.344510\n",
      "West Tip (Western Morning News)          -27.953183\n",
      "Patrick Weaver (The Star)                -28.532432\n",
      "Glendale (The Scotsman)                  -29.146563\n",
      "Jason Heavey (Sunday Express)            -30.554353\n",
      "Steve Simpson (Blackpool Gazette)        -37.301024\n",
      "Newsboy (Daily Mirror)                   -38.769512\n",
      "Andy Morris (Shropshire Star)            -39.302202\n",
      "Chris Goulding (Scottish Express)        -39.441163\n",
      "Lee Sobot (Yorkshire Evening Post)       -47.126620\n",
      "Jeffrey Ross (Glasgow Evening Times)     -48.876008\n",
      "Ebor (The Press, York)                   -51.893438\n",
      "Mercury (Daily Post)                     -56.451599\n",
      "The Scout (Daily Express)               -106.600067\n"
     ]
    }
   ],
   "source": [
    "# tipster performance\n",
    "tip_perf_df = pd.DataFrame()\n",
    "for tipster in analysis_df['tipster'].unique():\n",
    "    tipster_df = analysis_df[analysis_df['tipster'] == tipster]\n",
    "    tip_perf_df.loc[tipster, 'total_pnl'] = tipster_df['pnl'].sum()\n",
    "tip_perf_df.sort_values('total_pnl', ascending=False, inplace=True)\n",
    "print(tip_perf_df)"
   ]
  },
  {
   "cell_type": "markdown",
   "metadata": {},
   "source": [
    "**This cell gives tip performance by implied probability quintile**"
   ]
  },
  {
   "cell_type": "code",
   "execution_count": 48,
   "metadata": {
    "collapsed": false
   },
   "outputs": [
    {
     "name": "stdout",
     "output_type": "stream",
     "text": [
      "    total_pnl\n",
      "4  -33.359685\n",
      "1  -50.081690\n",
      "2  -72.977700\n",
      "3 -188.595996\n",
      "5 -442.206566\n"
     ]
    },
    {
     "data": {
      "text/plain": [
       "<matplotlib.collections.PathCollection at 0xa965978>"
      ]
     },
     "execution_count": 48,
     "metadata": {},
     "output_type": "execute_result"
    },
    {
     "data": {
      "image/png": "[encoded data removed]",
      "text/plain": [
       "<matplotlib.figure.Figure at 0xd544f60>"
      ]
     },
     "metadata": {},
     "output_type": "display_data"
    }
   ],
   "source": [
    "# imnplied prob performance\n",
    "quint_perf_df = pd.DataFrame()\n",
    "for quintile in analysis_df['imp_prob_quint'].unique():\n",
    "    quintile_df = analysis_df[analysis_df['imp_prob_quint'] == quintile]\n",
    "    quint_perf_df.loc[quintile, 'total_pnl'] = quintile_df['pnl'].sum()\n",
    "quint_perf_df.sort_values('total_pnl', ascending=False, inplace=True)\n",
    "print(quint_perf_df)\n",
    "scatter(quint_perf_df.index, quint_perf_df['total_pnl'])"
   ]
  },
  {
   "cell_type": "markdown",
   "metadata": {},
   "source": [
    "Quintile 5 is really bad. This is the quintile with highest implied odds. Quintile 4 appears to be an outlier"
   ]
  },
  {
   "cell_type": "code",
   "execution_count": 41,
   "metadata": {
    "collapsed": false
   },
   "outputs": [
    {
     "name": "stdout",
     "output_type": "stream",
     "text": [
      "(0.42105263157894735, 0.96153846153846156)\n",
      "(2.375, 1.04)\n"
     ]
    }
   ],
   "source": [
    "quintile_df = analysis_df[analysis_df['imp_prob_quint'] == 5]\n",
    "max_prob = quintile_df['imp_prob'].max()\n",
    "min_prob = quintile_df['imp_prob'].min()\n",
    "print(min_prob, max_prob)\n",
    "print(1.0/min_prob, 1.0/max_prob)"
   ]
  },
  {
   "cell_type": "markdown",
   "metadata": {},
   "source": [
    "So it looks like we should avoid any tip with implied probability greater than 42%, or odds less than 2.375. **This may be a good strategy in itself - lay at starting price any tip with odds less than 2.375. This can be done on Betfair.** We'll have to look into betfair starting prices however"
   ]
  },
  {
   "cell_type": "markdown",
   "metadata": {},
   "source": [
    "**Let's take a look at laying at SP**"
   ]
  },
  {
   "cell_type": "markdown",
   "metadata": {},
   "source": [
    "First look at difference between multiple back horses:"
   ]
  },
  {
   "cell_type": "code",
   "execution_count": 72,
   "metadata": {
    "collapsed": false
   },
   "outputs": [
    {
     "name": "stdout",
     "output_type": "stream",
     "text": [
      "    naps  imp_prob_quint  imp_prob  real_prob  total_count         pnl  \\\n",
      "0      1               1  0.084797   0.075407         3196  -32.934858   \n",
      "1      1               2  0.159976   0.127431         1954  -75.620047   \n",
      "2      1               3  0.230912   0.197461         2127  -93.684524   \n",
      "3      1               4  0.332657   0.305233         1720  -72.030963   \n",
      "4      1               5  0.555568   0.507692         1235 -214.887374   \n",
      "5      2               1  0.093138   0.074380          363   -5.021788   \n",
      "6      2               2  0.161247   0.141210          347   -4.260800   \n",
      "7      2               3  0.232944   0.205240          458  -11.382576   \n",
      "8      2               4  0.338450   0.333333          507    7.813233   \n",
      "9      2               5  0.556622   0.513043          460  -57.435354   \n",
      "10     3               1  0.097642   0.079365           63   -0.659019   \n",
      "11     3               2  0.164413   0.227273           66    5.001010   \n",
      "12     3               3  0.232022   0.152672          131  -11.601010   \n",
      "13     3               4  0.340820   0.376344          186   11.709768   \n",
      "14     3               5  0.553599   0.506579          152  -16.396212   \n",
      "15     4               1  0.105844   0.083333           12   -0.306306   \n",
      "16     4               2  0.164831   0.115385           26    0.332401   \n",
      "17     4               3  0.238141   0.138889           36   -4.477056   \n",
      "18     4               4  0.339055   0.275862           58   -4.751099   \n",
      "19     4               5  0.560575   0.538462           78   -0.700758   \n",
      "20     5               1  0.094655   0.000000            6   -0.630195   \n",
      "21     5               2  0.167599   0.200000            5    0.214141   \n",
      "22     5               3  0.244347   0.090909           22   -4.438961   \n",
      "23     5               4  0.349962   0.307692           26   -1.196337   \n",
      "24     5               5  0.529305   0.354839           31  -13.597727   \n",
      "25     6               1  0.111111   0.000000            1   -0.125000   \n",
      "26     6               2  0.166667   0.000000            2   -0.400000   \n",
      "27     6               3  0.248148   0.333333            6    0.886364   \n",
      "28     6               4  0.365908   0.500000            6    2.333333   \n",
      "29     6               5  0.540150   0.428571           14   -2.494697   \n",
      "30     7               2  0.154457   0.000000            3   -0.548485   \n",
      "31     7               3  0.258333   0.500000            2    0.666667   \n",
      "32     7               4  0.285714   0.000000            1   -0.200000   \n",
      "33     7               5  0.566598   0.666667            3    0.900000   \n",
      "34     8               3  0.250000   0.000000            1   -0.333333   \n",
      "35     8               4  0.307692   0.000000            1   -0.444444   \n",
      "36     8               5  0.666667   1.000000            1    1.000000   \n",
      "37     9               3  0.244444   0.000000            2   -0.506494   \n",
      "38     9               4  0.335664   0.500000            2    0.428571   \n",
      "39     9               5  0.444444   0.000000            1   -0.200000   \n",
      "40    10               5  0.500000   1.000000            1    1.000000   \n",
      "\n",
      "        edge  \n",
      "0  -0.009390  \n",
      "1  -0.032545  \n",
      "2  -0.033451  \n",
      "3  -0.027424  \n",
      "4  -0.047875  \n",
      "5  -0.018758  \n",
      "6  -0.020037  \n",
      "7  -0.027704  \n",
      "8  -0.005117  \n",
      "9  -0.043578  \n",
      "10 -0.018277  \n",
      "11  0.062859  \n",
      "12 -0.079350  \n",
      "13  0.035524  \n",
      "14 -0.047020  \n",
      "15 -0.022510  \n",
      "16 -0.049447  \n",
      "17 -0.099252  \n",
      "18 -0.063193  \n",
      "19 -0.022113  \n",
      "20 -0.094655  \n",
      "21  0.032401  \n",
      "22 -0.153438  \n",
      "23 -0.042270  \n",
      "24 -0.174467  \n",
      "25 -0.111111  \n",
      "26 -0.166667  \n",
      "27  0.085185  \n",
      "28  0.134092  \n",
      "29 -0.111579  \n",
      "30 -0.154457  \n",
      "31  0.241667  \n",
      "32 -0.285714  \n",
      "33  0.100069  \n",
      "34 -0.250000  \n",
      "35 -0.307692  \n",
      "36  0.333333  \n",
      "37 -0.244444  \n",
      "38  0.164336  \n",
      "39 -0.444444  \n",
      "40  0.500000  \n"
     ]
    }
   ],
   "source": [
    "# group tips by day and horse\n",
    "tips_num_df = analysis_df.groupby(['date','nap']).size().reset_index(name='nap_count')\n",
    "odds_group_df = analysis_df.groupby(['date','nap'], as_index=False).mean()\n",
    "group_df = pd.concat([tips_num_df, odds_group_df], axis=1)\n",
    "edge_list = []\n",
    "for i in range(1, 11):\n",
    "    for j in range(1, 6):\n",
    "        try:\n",
    "            count_df = group_df[(group_df['nap_count'] == i) & (group_df['imp_prob_quint'] == j)]\n",
    "            pnl = count_df['pnl'].sum()\n",
    "            wins = len(count_df[count_df['place'] == 1])\n",
    "            total_count = len(count_df)\n",
    "            implied_wins = count_df['imp_prob'].sum()\n",
    "            imp_prob = implied_wins / total_count\n",
    "            real_prob = wins*1.0 / total_count*1.0\n",
    "            edge_list.append([i, j, imp_prob, real_prob, total_count, pnl])\n",
    "        except:\n",
    "            pass\n",
    "edge_df = pd.DataFrame(edge_list)\n",
    "edge_df.columns = ['naps', 'imp_prob_quint', 'imp_prob', 'real_prob', 'total_count', 'pnl']\n",
    "edge_df['edge'] = edge_df['real_prob'] - edge_df['imp_prob']\n",
    "print(edge_df)\n"
   ]
  },
  {
   "cell_type": "markdown",
   "metadata": {},
   "source": [
    "There's definitely a load of negative edge out there (using their starting prices). Probs just the bookies being overround though"
   ]
  },
  {
   "cell_type": "code",
   "execution_count": null,
   "metadata": {
    "collapsed": true
   },
   "outputs": [],
   "source": []
  }
 ],
 "metadata": {
  "kernelspec": {
   "display_name": "Python [conda root]",
   "language": "python",
   "name": "conda-root-py"
  },
  "language_info": {
   "codemirror_mode": {
    "name": "ipython",
    "version": 2
   },
   "file_extension": ".py",
   "mimetype": "text/x-python",
   "name": "python",
   "nbconvert_exporter": "python",
   "pygments_lexer": "ipython2",
   "version": "2.7.12"
  }
 },
 "nbformat": 4,
 "nbformat_minor": 1
}
